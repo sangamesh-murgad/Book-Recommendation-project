{
 "cells": [
  {
   "cell_type": "markdown",
   "metadata": {
    "id": "RbAd49yWpatT"
   },
   "source": [
    "#  Feature Extarction "
   ]
  },
  {
   "cell_type": "markdown",
   "metadata": {
    "id": "0zDYP7MeHn4e"
   },
   "source": [
    "## Importing Libraries "
   ]
  },
  {
   "cell_type": "code",
   "execution_count": 2,
   "metadata": {
    "ExecuteTime": {
     "end_time": "2021-12-22T04:58:36.378648Z",
     "start_time": "2021-12-22T04:58:22.971610Z"
    },
    "id": "fjtSe-5hpatq"
   },
   "outputs": [],
   "source": [
    "import pandas as pd\n",
    "import numpy as np\n",
    "from matplotlib import pyplot as plt\n",
    "import seaborn as sns\n",
    "%matplotlib inline "
   ]
  },
  {
   "cell_type": "markdown",
   "metadata": {
    "id": "DEXo6VgPHvTi"
   },
   "source": [
    "## Load Dataset"
   ]
  },
  {
   "cell_type": "code",
   "execution_count": 3,
   "metadata": {
    "ExecuteTime": {
     "end_time": "2021-12-22T04:58:37.035661Z",
     "start_time": "2021-12-22T04:58:36.415635Z"
    },
    "colab": {
     "base_uri": "https://localhost:8080/",
     "height": 417
    },
    "id": "EEXiT26jpatx",
    "outputId": "3f028163-f1bf-4a50-ca20-2b5a148c13dd"
   },
   "outputs": [
    {
     "data": {
      "text/html": [
       "<div>\n",
       "<style scoped>\n",
       "    .dataframe tbody tr th:only-of-type {\n",
       "        vertical-align: middle;\n",
       "    }\n",
       "\n",
       "    .dataframe tbody tr th {\n",
       "        vertical-align: top;\n",
       "    }\n",
       "\n",
       "    .dataframe thead th {\n",
       "        text-align: right;\n",
       "    }\n",
       "</style>\n",
       "<table border=\"1\" class=\"dataframe\">\n",
       "  <thead>\n",
       "    <tr style=\"text-align: right;\">\n",
       "      <th></th>\n",
       "      <th>title</th>\n",
       "      <th>author</th>\n",
       "      <th>pages</th>\n",
       "      <th>rating</th>\n",
       "      <th>genres</th>\n",
       "      <th>SUMMARY</th>\n",
       "    </tr>\n",
       "  </thead>\n",
       "  <tbody>\n",
       "    <tr>\n",
       "      <th>0</th>\n",
       "      <td>The Glass Castle</td>\n",
       "      <td>Jeannette Walls</td>\n",
       "      <td>288.0</td>\n",
       "      <td>4.28</td>\n",
       "      <td>Biography</td>\n",
       "      <td>tender moving tale unconditional love family d...</td>\n",
       "    </tr>\n",
       "    <tr>\n",
       "      <th>1</th>\n",
       "      <td>Angela's Ashes</td>\n",
       "      <td>Frank McCourt</td>\n",
       "      <td>452.0</td>\n",
       "      <td>4.12</td>\n",
       "      <td>Biography</td>\n",
       "      <td>imbued page frank mccourt astounding humor com...</td>\n",
       "    </tr>\n",
       "    <tr>\n",
       "      <th>2</th>\n",
       "      <td>Tuesdays with Morrie</td>\n",
       "      <td>Mitch Albom</td>\n",
       "      <td>210.0</td>\n",
       "      <td>4.12</td>\n",
       "      <td>Biography</td>\n",
       "      <td>maybe grandparent teacher colleague someone ol...</td>\n",
       "    </tr>\n",
       "    <tr>\n",
       "      <th>3</th>\n",
       "      <td>Running with Scissors</td>\n",
       "      <td>Augusten Burroughs</td>\n",
       "      <td>304.0</td>\n",
       "      <td>3.73</td>\n",
       "      <td>Biography</td>\n",
       "      <td>running scissors true story boy mother poet de...</td>\n",
       "    </tr>\n",
       "    <tr>\n",
       "      <th>4</th>\n",
       "      <td>A Child Called \"It\"</td>\n",
       "      <td>Dave Pelzer</td>\n",
       "      <td>184.0</td>\n",
       "      <td>4.11</td>\n",
       "      <td>Biography</td>\n",
       "      <td>alternate cover edition isbn ace x ace x chron...</td>\n",
       "    </tr>\n",
       "    <tr>\n",
       "      <th>...</th>\n",
       "      <td>...</td>\n",
       "      <td>...</td>\n",
       "      <td>...</td>\n",
       "      <td>...</td>\n",
       "      <td>...</td>\n",
       "      <td>...</td>\n",
       "    </tr>\n",
       "    <tr>\n",
       "      <th>4745</th>\n",
       "      <td>Confessions of a Tween Superheroine</td>\n",
       "      <td>J.M. Guy</td>\n",
       "      <td>187.0</td>\n",
       "      <td>4.15</td>\n",
       "      <td>Young Adult</td>\n",
       "      <td>jazmin skylyn gillette confession really plann...</td>\n",
       "    </tr>\n",
       "    <tr>\n",
       "      <th>4746</th>\n",
       "      <td>The Feds' Folly: Who Stole $17 Trillion?</td>\n",
       "      <td>Bill   Brown</td>\n",
       "      <td>262.0</td>\n",
       "      <td>4.20</td>\n",
       "      <td>Young Adult</td>\n",
       "      <td>sequel fed folly stole trillion jones survivin...</td>\n",
       "    </tr>\n",
       "    <tr>\n",
       "      <th>4747</th>\n",
       "      <td>Unwind</td>\n",
       "      <td>Neal Shusterman</td>\n",
       "      <td>337.0</td>\n",
       "      <td>4.15</td>\n",
       "      <td>Young Adult</td>\n",
       "      <td>connor risa lev running life second civil war ...</td>\n",
       "    </tr>\n",
       "    <tr>\n",
       "      <th>4748</th>\n",
       "      <td>Pretty Little Liars</td>\n",
       "      <td>Sara Shepard</td>\n",
       "      <td>286.0</td>\n",
       "      <td>3.86</td>\n",
       "      <td>Young Adult</td>\n",
       "      <td>everyone something hide especially high school...</td>\n",
       "    </tr>\n",
       "    <tr>\n",
       "      <th>4749</th>\n",
       "      <td>The Knife of Never Letting Go</td>\n",
       "      <td>Patrick Ness</td>\n",
       "      <td>512.0</td>\n",
       "      <td>3.96</td>\n",
       "      <td>Young Adult</td>\n",
       "      <td>todd hewitt boy town men settler infected nois...</td>\n",
       "    </tr>\n",
       "  </tbody>\n",
       "</table>\n",
       "<p>4750 rows × 6 columns</p>\n",
       "</div>"
      ],
      "text/plain": [
       "                                         title              author  pages  \\\n",
       "0                             The Glass Castle     Jeannette Walls  288.0   \n",
       "1                               Angela's Ashes       Frank McCourt  452.0   \n",
       "2                         Tuesdays with Morrie         Mitch Albom  210.0   \n",
       "3                        Running with Scissors  Augusten Burroughs  304.0   \n",
       "4                          A Child Called \"It\"         Dave Pelzer  184.0   \n",
       "...                                        ...                 ...    ...   \n",
       "4745       Confessions of a Tween Superheroine            J.M. Guy  187.0   \n",
       "4746  The Feds' Folly: Who Stole $17 Trillion?        Bill   Brown  262.0   \n",
       "4747                                    Unwind     Neal Shusterman  337.0   \n",
       "4748                       Pretty Little Liars        Sara Shepard  286.0   \n",
       "4749             The Knife of Never Letting Go        Patrick Ness  512.0   \n",
       "\n",
       "      rating       genres                                            SUMMARY  \n",
       "0       4.28    Biography  tender moving tale unconditional love family d...  \n",
       "1       4.12    Biography  imbued page frank mccourt astounding humor com...  \n",
       "2       4.12    Biography  maybe grandparent teacher colleague someone ol...  \n",
       "3       3.73    Biography  running scissors true story boy mother poet de...  \n",
       "4       4.11    Biography  alternate cover edition isbn ace x ace x chron...  \n",
       "...      ...          ...                                                ...  \n",
       "4745    4.15  Young Adult  jazmin skylyn gillette confession really plann...  \n",
       "4746    4.20  Young Adult  sequel fed folly stole trillion jones survivin...  \n",
       "4747    4.15  Young Adult  connor risa lev running life second civil war ...  \n",
       "4748    3.86  Young Adult  everyone something hide especially high school...  \n",
       "4749    3.96  Young Adult  todd hewitt boy town men settler infected nois...  \n",
       "\n",
       "[4750 rows x 6 columns]"
      ]
     },
     "execution_count": 3,
     "metadata": {},
     "output_type": "execute_result"
    }
   ],
   "source": [
    "book = pd.read_csv(\"new_book.xls\")\n",
    "book"
   ]
  },
  {
   "cell_type": "code",
   "execution_count": 4,
   "metadata": {
    "ExecuteTime": {
     "end_time": "2021-12-22T04:58:45.093769Z",
     "start_time": "2021-12-22T04:58:37.084342Z"
    }
   },
   "outputs": [
    {
     "name": "stderr",
     "output_type": "stream",
     "text": [
      "[nltk_data] Downloading package wordnet to\n",
      "[nltk_data]     C:\\Users\\NITHU\\AppData\\Roaming\\nltk_data...\n",
      "[nltk_data]   Package wordnet is already up-to-date!\n",
      "[nltk_data] Downloading package punkt to\n",
      "[nltk_data]     C:\\Users\\NITHU\\AppData\\Roaming\\nltk_data...\n",
      "[nltk_data]   Package punkt is already up-to-date!\n",
      "[nltk_data] Downloading package stopwords to\n",
      "[nltk_data]     C:\\Users\\NITHU\\AppData\\Roaming\\nltk_data...\n",
      "[nltk_data]   Package stopwords is already up-to-date!\n"
     ]
    }
   ],
   "source": [
    "import re\n",
    "import string\n",
    "import nltk\n",
    "nltk.download('wordnet')\n",
    "from nltk.tokenize import word_tokenize\n",
    "from nltk.corpus import stopwords\n",
    "nltk.download('punkt')\n",
    "nltk.download('stopwords')\n",
    "from textblob import TextBlob"
   ]
  },
  {
   "cell_type": "code",
   "execution_count": 5,
   "metadata": {
    "ExecuteTime": {
     "end_time": "2021-12-22T04:58:48.271870Z",
     "start_time": "2021-12-22T04:58:48.139652Z"
    }
   },
   "outputs": [],
   "source": [
    "def clean_title(text):\n",
    "    text = text.lower()                                                        # lower case\n",
    "    text = text.translate(str.maketrans(' ', ' ', string.punctuation))         # remove punctuations\n",
    "    text_tokens = word_tokenize(text)                                          # Tokenization\n",
    "    text_tokens = ' '.join(text_tokens)  \n",
    "    return text_tokens\n",
    "clean = lambda x: clean_title(x)"
   ]
  },
  {
   "cell_type": "code",
   "execution_count": 6,
   "metadata": {
    "ExecuteTime": {
     "end_time": "2021-12-22T04:58:50.095409Z",
     "start_time": "2021-12-22T04:58:49.495190Z"
    }
   },
   "outputs": [
    {
     "data": {
      "text/html": [
       "<div>\n",
       "<style scoped>\n",
       "    .dataframe tbody tr th:only-of-type {\n",
       "        vertical-align: middle;\n",
       "    }\n",
       "\n",
       "    .dataframe tbody tr th {\n",
       "        vertical-align: top;\n",
       "    }\n",
       "\n",
       "    .dataframe thead th {\n",
       "        text-align: right;\n",
       "    }\n",
       "</style>\n",
       "<table border=\"1\" class=\"dataframe\">\n",
       "  <thead>\n",
       "    <tr style=\"text-align: right;\">\n",
       "      <th></th>\n",
       "      <th>title</th>\n",
       "      <th>author</th>\n",
       "      <th>pages</th>\n",
       "      <th>rating</th>\n",
       "      <th>genres</th>\n",
       "      <th>SUMMARY</th>\n",
       "    </tr>\n",
       "  </thead>\n",
       "  <tbody>\n",
       "    <tr>\n",
       "      <th>0</th>\n",
       "      <td>the glass castle</td>\n",
       "      <td>Jeannette Walls</td>\n",
       "      <td>288.0</td>\n",
       "      <td>4.28</td>\n",
       "      <td>Biography</td>\n",
       "      <td>tender moving tale unconditional love family d...</td>\n",
       "    </tr>\n",
       "    <tr>\n",
       "      <th>1</th>\n",
       "      <td>angelas ashes</td>\n",
       "      <td>Frank McCourt</td>\n",
       "      <td>452.0</td>\n",
       "      <td>4.12</td>\n",
       "      <td>Biography</td>\n",
       "      <td>imbued page frank mccourt astounding humor com...</td>\n",
       "    </tr>\n",
       "    <tr>\n",
       "      <th>2</th>\n",
       "      <td>tuesdays with morrie</td>\n",
       "      <td>Mitch Albom</td>\n",
       "      <td>210.0</td>\n",
       "      <td>4.12</td>\n",
       "      <td>Biography</td>\n",
       "      <td>maybe grandparent teacher colleague someone ol...</td>\n",
       "    </tr>\n",
       "    <tr>\n",
       "      <th>3</th>\n",
       "      <td>running with scissors</td>\n",
       "      <td>Augusten Burroughs</td>\n",
       "      <td>304.0</td>\n",
       "      <td>3.73</td>\n",
       "      <td>Biography</td>\n",
       "      <td>running scissors true story boy mother poet de...</td>\n",
       "    </tr>\n",
       "    <tr>\n",
       "      <th>4</th>\n",
       "      <td>a child called it</td>\n",
       "      <td>Dave Pelzer</td>\n",
       "      <td>184.0</td>\n",
       "      <td>4.11</td>\n",
       "      <td>Biography</td>\n",
       "      <td>alternate cover edition isbn ace x ace x chron...</td>\n",
       "    </tr>\n",
       "    <tr>\n",
       "      <th>...</th>\n",
       "      <td>...</td>\n",
       "      <td>...</td>\n",
       "      <td>...</td>\n",
       "      <td>...</td>\n",
       "      <td>...</td>\n",
       "      <td>...</td>\n",
       "    </tr>\n",
       "    <tr>\n",
       "      <th>4745</th>\n",
       "      <td>confessions of a tween superheroine</td>\n",
       "      <td>J.M. Guy</td>\n",
       "      <td>187.0</td>\n",
       "      <td>4.15</td>\n",
       "      <td>Young Adult</td>\n",
       "      <td>jazmin skylyn gillette confession really plann...</td>\n",
       "    </tr>\n",
       "    <tr>\n",
       "      <th>4746</th>\n",
       "      <td>the feds folly who stole 17 trillion</td>\n",
       "      <td>Bill   Brown</td>\n",
       "      <td>262.0</td>\n",
       "      <td>4.20</td>\n",
       "      <td>Young Adult</td>\n",
       "      <td>sequel fed folly stole trillion jones survivin...</td>\n",
       "    </tr>\n",
       "    <tr>\n",
       "      <th>4747</th>\n",
       "      <td>unwind</td>\n",
       "      <td>Neal Shusterman</td>\n",
       "      <td>337.0</td>\n",
       "      <td>4.15</td>\n",
       "      <td>Young Adult</td>\n",
       "      <td>connor risa lev running life second civil war ...</td>\n",
       "    </tr>\n",
       "    <tr>\n",
       "      <th>4748</th>\n",
       "      <td>pretty little liars</td>\n",
       "      <td>Sara Shepard</td>\n",
       "      <td>286.0</td>\n",
       "      <td>3.86</td>\n",
       "      <td>Young Adult</td>\n",
       "      <td>everyone something hide especially high school...</td>\n",
       "    </tr>\n",
       "    <tr>\n",
       "      <th>4749</th>\n",
       "      <td>the knife of never letting go</td>\n",
       "      <td>Patrick Ness</td>\n",
       "      <td>512.0</td>\n",
       "      <td>3.96</td>\n",
       "      <td>Young Adult</td>\n",
       "      <td>todd hewitt boy town men settler infected nois...</td>\n",
       "    </tr>\n",
       "  </tbody>\n",
       "</table>\n",
       "<p>4750 rows × 6 columns</p>\n",
       "</div>"
      ],
      "text/plain": [
       "                                     title              author  pages  rating  \\\n",
       "0                         the glass castle     Jeannette Walls  288.0    4.28   \n",
       "1                            angelas ashes       Frank McCourt  452.0    4.12   \n",
       "2                     tuesdays with morrie         Mitch Albom  210.0    4.12   \n",
       "3                    running with scissors  Augusten Burroughs  304.0    3.73   \n",
       "4                        a child called it         Dave Pelzer  184.0    4.11   \n",
       "...                                    ...                 ...    ...     ...   \n",
       "4745   confessions of a tween superheroine            J.M. Guy  187.0    4.15   \n",
       "4746  the feds folly who stole 17 trillion        Bill   Brown  262.0    4.20   \n",
       "4747                                unwind     Neal Shusterman  337.0    4.15   \n",
       "4748                   pretty little liars        Sara Shepard  286.0    3.86   \n",
       "4749         the knife of never letting go        Patrick Ness  512.0    3.96   \n",
       "\n",
       "           genres                                            SUMMARY  \n",
       "0       Biography  tender moving tale unconditional love family d...  \n",
       "1       Biography  imbued page frank mccourt astounding humor com...  \n",
       "2       Biography  maybe grandparent teacher colleague someone ol...  \n",
       "3       Biography  running scissors true story boy mother poet de...  \n",
       "4       Biography  alternate cover edition isbn ace x ace x chron...  \n",
       "...           ...                                                ...  \n",
       "4745  Young Adult  jazmin skylyn gillette confession really plann...  \n",
       "4746  Young Adult  sequel fed folly stole trillion jones survivin...  \n",
       "4747  Young Adult  connor risa lev running life second civil war ...  \n",
       "4748  Young Adult  everyone something hide especially high school...  \n",
       "4749  Young Adult  todd hewitt boy town men settler infected nois...  \n",
       "\n",
       "[4750 rows x 6 columns]"
      ]
     },
     "execution_count": 6,
     "metadata": {},
     "output_type": "execute_result"
    }
   ],
   "source": [
    "book[\"title\"] = book[\"title\"].apply(clean)\n",
    "book"
   ]
  },
  {
   "cell_type": "markdown",
   "metadata": {
    "id": "OfOCUzYQpat_"
   },
   "source": [
    "###  Checking for null values "
   ]
  },
  {
   "cell_type": "code",
   "execution_count": 7,
   "metadata": {
    "ExecuteTime": {
     "end_time": "2021-12-22T04:58:51.203872Z",
     "start_time": "2021-12-22T04:58:51.005014Z"
    },
    "colab": {
     "base_uri": "https://localhost:8080/"
    },
    "id": "rdlQH-J5pauD",
    "outputId": "8c04183c-54c8-4d68-bfee-b696f025563b"
   },
   "outputs": [
    {
     "data": {
      "text/plain": [
       "title      0\n",
       "author     0\n",
       "pages      0\n",
       "rating     0\n",
       "genres     0\n",
       "SUMMARY    2\n",
       "dtype: int64"
      ]
     },
     "execution_count": 7,
     "metadata": {},
     "output_type": "execute_result"
    }
   ],
   "source": [
    "book.isnull().sum()"
   ]
  },
  {
   "cell_type": "markdown",
   "metadata": {},
   "source": [
    "###  Dropping the null values "
   ]
  },
  {
   "cell_type": "code",
   "execution_count": 8,
   "metadata": {
    "ExecuteTime": {
     "end_time": "2021-12-22T04:58:52.426034Z",
     "start_time": "2021-12-22T04:58:52.035463Z"
    }
   },
   "outputs": [],
   "source": [
    "book.dropna(axis=0, inplace=True)"
   ]
  },
  {
   "cell_type": "code",
   "execution_count": 9,
   "metadata": {
    "ExecuteTime": {
     "end_time": "2021-12-22T04:58:52.534557Z",
     "start_time": "2021-12-22T04:58:52.510061Z"
    }
   },
   "outputs": [
    {
     "data": {
      "text/plain": [
       "title      0\n",
       "author     0\n",
       "pages      0\n",
       "rating     0\n",
       "genres     0\n",
       "SUMMARY    0\n",
       "dtype: int64"
      ]
     },
     "execution_count": 9,
     "metadata": {},
     "output_type": "execute_result"
    }
   ],
   "source": [
    "book.isnull().sum()"
   ]
  },
  {
   "cell_type": "markdown",
   "metadata": {
    "id": "JMtFXfc-H4yb"
   },
   "source": [
    "# Feature Extraction "
   ]
  },
  {
   "cell_type": "markdown",
   "metadata": {
    "id": "wNzJsSdcpauT"
   },
   "source": [
    "## 1)  Bag of words "
   ]
  },
  {
   "cell_type": "code",
   "execution_count": 10,
   "metadata": {
    "ExecuteTime": {
     "end_time": "2021-12-22T04:58:53.826823Z",
     "start_time": "2021-12-22T04:58:53.820839Z"
    },
    "id": "w-_nJCQupauX"
   },
   "outputs": [],
   "source": [
    "from sklearn.feature_extraction.text import CountVectorizer"
   ]
  },
  {
   "cell_type": "code",
   "execution_count": 11,
   "metadata": {
    "ExecuteTime": {
     "end_time": "2021-12-22T04:58:57.952412Z",
     "start_time": "2021-12-22T04:58:54.274044Z"
    },
    "id": "xlXcG4L4pauZ"
   },
   "outputs": [],
   "source": [
    "cv = CountVectorizer(max_features=5000, ngram_range=(1,3))\n",
    "x = cv.fit_transform(book[\"SUMMARY\"])\n",
    "freq_words = pd.DataFrame({'term': cv.get_feature_names(), 'occurrences':np.asarray(x.sum(axis=0)).ravel().tolist()})\n",
    "freq_words['frequency'] = freq_words['occurrences']/np.sum(freq_words['occurrences'])"
   ]
  },
  {
   "cell_type": "code",
   "execution_count": 12,
   "metadata": {
    "ExecuteTime": {
     "end_time": "2021-12-22T04:58:58.044849Z",
     "start_time": "2021-12-22T04:58:58.029807Z"
    },
    "colab": {
     "base_uri": "https://localhost:8080/",
     "height": 819
    },
    "id": "Ot958zXspaud",
    "outputId": "e4d33f39-de53-44c2-bb87-c6c7cf1b11ce"
   },
   "outputs": [
    {
     "data": {
      "text/html": [
       "<div>\n",
       "<style scoped>\n",
       "    .dataframe tbody tr th:only-of-type {\n",
       "        vertical-align: middle;\n",
       "    }\n",
       "\n",
       "    .dataframe tbody tr th {\n",
       "        vertical-align: top;\n",
       "    }\n",
       "\n",
       "    .dataframe thead th {\n",
       "        text-align: right;\n",
       "    }\n",
       "</style>\n",
       "<table border=\"1\" class=\"dataframe\">\n",
       "  <thead>\n",
       "    <tr style=\"text-align: right;\">\n",
       "      <th></th>\n",
       "      <th>term</th>\n",
       "      <th>occurrences</th>\n",
       "      <th>frequency</th>\n",
       "    </tr>\n",
       "  </thead>\n",
       "  <tbody>\n",
       "    <tr>\n",
       "      <th>0</th>\n",
       "      <td>aaron</td>\n",
       "      <td>17</td>\n",
       "      <td>0.000052</td>\n",
       "    </tr>\n",
       "    <tr>\n",
       "      <th>1</th>\n",
       "      <td>abandon</td>\n",
       "      <td>15</td>\n",
       "      <td>0.000046</td>\n",
       "    </tr>\n",
       "    <tr>\n",
       "      <th>2</th>\n",
       "      <td>abandoned</td>\n",
       "      <td>64</td>\n",
       "      <td>0.000195</td>\n",
       "    </tr>\n",
       "    <tr>\n",
       "      <th>3</th>\n",
       "      <td>abbey</td>\n",
       "      <td>21</td>\n",
       "      <td>0.000064</td>\n",
       "    </tr>\n",
       "    <tr>\n",
       "      <th>4</th>\n",
       "      <td>abducted</td>\n",
       "      <td>16</td>\n",
       "      <td>0.000049</td>\n",
       "    </tr>\n",
       "    <tr>\n",
       "      <th>5</th>\n",
       "      <td>ability</td>\n",
       "      <td>148</td>\n",
       "      <td>0.000450</td>\n",
       "    </tr>\n",
       "    <tr>\n",
       "      <th>6</th>\n",
       "      <td>able</td>\n",
       "      <td>150</td>\n",
       "      <td>0.000456</td>\n",
       "    </tr>\n",
       "    <tr>\n",
       "      <th>7</th>\n",
       "      <td>aboard</td>\n",
       "      <td>21</td>\n",
       "      <td>0.000064</td>\n",
       "    </tr>\n",
       "    <tr>\n",
       "      <th>8</th>\n",
       "      <td>abraham</td>\n",
       "      <td>17</td>\n",
       "      <td>0.000052</td>\n",
       "    </tr>\n",
       "    <tr>\n",
       "      <th>9</th>\n",
       "      <td>abroad</td>\n",
       "      <td>25</td>\n",
       "      <td>0.000076</td>\n",
       "    </tr>\n",
       "    <tr>\n",
       "      <th>10</th>\n",
       "      <td>absolute</td>\n",
       "      <td>20</td>\n",
       "      <td>0.000061</td>\n",
       "    </tr>\n",
       "    <tr>\n",
       "      <th>11</th>\n",
       "      <td>absolutely</td>\n",
       "      <td>36</td>\n",
       "      <td>0.000110</td>\n",
       "    </tr>\n",
       "    <tr>\n",
       "      <th>12</th>\n",
       "      <td>absorbing</td>\n",
       "      <td>24</td>\n",
       "      <td>0.000073</td>\n",
       "    </tr>\n",
       "    <tr>\n",
       "      <th>13</th>\n",
       "      <td>absurd</td>\n",
       "      <td>17</td>\n",
       "      <td>0.000052</td>\n",
       "    </tr>\n",
       "    <tr>\n",
       "      <th>14</th>\n",
       "      <td>abuse</td>\n",
       "      <td>47</td>\n",
       "      <td>0.000143</td>\n",
       "    </tr>\n",
       "    <tr>\n",
       "      <th>15</th>\n",
       "      <td>abusive</td>\n",
       "      <td>16</td>\n",
       "      <td>0.000049</td>\n",
       "    </tr>\n",
       "    <tr>\n",
       "      <th>16</th>\n",
       "      <td>academic</td>\n",
       "      <td>17</td>\n",
       "      <td>0.000052</td>\n",
       "    </tr>\n",
       "    <tr>\n",
       "      <th>17</th>\n",
       "      <td>academy</td>\n",
       "      <td>41</td>\n",
       "      <td>0.000125</td>\n",
       "    </tr>\n",
       "    <tr>\n",
       "      <th>18</th>\n",
       "      <td>accept</td>\n",
       "      <td>32</td>\n",
       "      <td>0.000097</td>\n",
       "    </tr>\n",
       "    <tr>\n",
       "      <th>19</th>\n",
       "      <td>acceptance</td>\n",
       "      <td>18</td>\n",
       "      <td>0.000055</td>\n",
       "    </tr>\n",
       "    <tr>\n",
       "      <th>20</th>\n",
       "      <td>accepted</td>\n",
       "      <td>20</td>\n",
       "      <td>0.000061</td>\n",
       "    </tr>\n",
       "    <tr>\n",
       "      <th>21</th>\n",
       "      <td>accepts</td>\n",
       "      <td>18</td>\n",
       "      <td>0.000055</td>\n",
       "    </tr>\n",
       "    <tr>\n",
       "      <th>22</th>\n",
       "      <td>access</td>\n",
       "      <td>39</td>\n",
       "      <td>0.000119</td>\n",
       "    </tr>\n",
       "    <tr>\n",
       "      <th>23</th>\n",
       "      <td>accessible</td>\n",
       "      <td>55</td>\n",
       "      <td>0.000167</td>\n",
       "    </tr>\n",
       "    <tr>\n",
       "      <th>24</th>\n",
       "      <td>accident</td>\n",
       "      <td>70</td>\n",
       "      <td>0.000213</td>\n",
       "    </tr>\n",
       "  </tbody>\n",
       "</table>\n",
       "</div>"
      ],
      "text/plain": [
       "          term  occurrences  frequency\n",
       "0        aaron           17   0.000052\n",
       "1      abandon           15   0.000046\n",
       "2    abandoned           64   0.000195\n",
       "3        abbey           21   0.000064\n",
       "4     abducted           16   0.000049\n",
       "5      ability          148   0.000450\n",
       "6         able          150   0.000456\n",
       "7       aboard           21   0.000064\n",
       "8      abraham           17   0.000052\n",
       "9       abroad           25   0.000076\n",
       "10    absolute           20   0.000061\n",
       "11  absolutely           36   0.000110\n",
       "12   absorbing           24   0.000073\n",
       "13      absurd           17   0.000052\n",
       "14       abuse           47   0.000143\n",
       "15     abusive           16   0.000049\n",
       "16    academic           17   0.000052\n",
       "17     academy           41   0.000125\n",
       "18      accept           32   0.000097\n",
       "19  acceptance           18   0.000055\n",
       "20    accepted           20   0.000061\n",
       "21     accepts           18   0.000055\n",
       "22      access           39   0.000119\n",
       "23  accessible           55   0.000167\n",
       "24    accident           70   0.000213"
      ]
     },
     "execution_count": 12,
     "metadata": {},
     "output_type": "execute_result"
    }
   ],
   "source": [
    "freq_words.head(25)"
   ]
  },
  {
   "cell_type": "markdown",
   "metadata": {
    "id": "Lull7Grdpauh"
   },
   "source": [
    "##  2) TF-ID "
   ]
  },
  {
   "cell_type": "code",
   "execution_count": 13,
   "metadata": {
    "ExecuteTime": {
     "end_time": "2021-12-22T04:58:58.138616Z",
     "start_time": "2021-12-22T04:58:58.123687Z"
    },
    "id": "Zy7WW1VUpaul"
   },
   "outputs": [],
   "source": [
    "from sklearn.feature_extraction.text import TfidfVectorizer"
   ]
  },
  {
   "cell_type": "code",
   "execution_count": 14,
   "metadata": {
    "ExecuteTime": {
     "end_time": "2021-12-22T04:59:08.404975Z",
     "start_time": "2021-12-22T04:58:58.204606Z"
    },
    "id": "q-KrTE8epaun"
   },
   "outputs": [],
   "source": [
    "tfid_vec = TfidfVectorizer( max_features= 5000, smooth_idf=True,ngram_range=(1,3))\n",
    "doc_vec = tfid_vec.fit_transform(book[\"SUMMARY\"])\n",
    "names_features = tfid_vec.get_feature_names()\n",
    "dense = doc_vec.todense()\n",
    "denselist = dense.tolist()\n",
    "data = pd.DataFrame(denselist, columns = names_features)"
   ]
  },
  {
   "cell_type": "code",
   "execution_count": 15,
   "metadata": {
    "ExecuteTime": {
     "end_time": "2021-12-22T04:59:13.712726Z",
     "start_time": "2021-12-22T04:59:13.667610Z"
    },
    "colab": {
     "base_uri": "https://localhost:8080/",
     "height": 470
    },
    "id": "MrkCWPzrpaup",
    "outputId": "43debd16-2c4d-453c-c716-c01f5a91098c"
   },
   "outputs": [
    {
     "data": {
      "text/html": [
       "<div>\n",
       "<style scoped>\n",
       "    .dataframe tbody tr th:only-of-type {\n",
       "        vertical-align: middle;\n",
       "    }\n",
       "\n",
       "    .dataframe tbody tr th {\n",
       "        vertical-align: top;\n",
       "    }\n",
       "\n",
       "    .dataframe thead th {\n",
       "        text-align: right;\n",
       "    }\n",
       "</style>\n",
       "<table border=\"1\" class=\"dataframe\">\n",
       "  <thead>\n",
       "    <tr style=\"text-align: right;\">\n",
       "      <th></th>\n",
       "      <th>aaron</th>\n",
       "      <th>abandon</th>\n",
       "      <th>abandoned</th>\n",
       "      <th>abbey</th>\n",
       "      <th>abducted</th>\n",
       "      <th>ability</th>\n",
       "      <th>able</th>\n",
       "      <th>aboard</th>\n",
       "      <th>abraham</th>\n",
       "      <th>abroad</th>\n",
       "      <th>...</th>\n",
       "      <th>young woman</th>\n",
       "      <th>younger</th>\n",
       "      <th>youngest</th>\n",
       "      <th>youth</th>\n",
       "      <th>youthful</th>\n",
       "      <th>zen</th>\n",
       "      <th>zero</th>\n",
       "      <th>zombie</th>\n",
       "      <th>zone</th>\n",
       "      <th>zu</th>\n",
       "    </tr>\n",
       "  </thead>\n",
       "  <tbody>\n",
       "    <tr>\n",
       "      <th>0</th>\n",
       "      <td>0.0</td>\n",
       "      <td>0.0</td>\n",
       "      <td>0.0</td>\n",
       "      <td>0.0</td>\n",
       "      <td>0.0</td>\n",
       "      <td>0.0</td>\n",
       "      <td>0.0</td>\n",
       "      <td>0.0</td>\n",
       "      <td>0.0</td>\n",
       "      <td>0.0</td>\n",
       "      <td>...</td>\n",
       "      <td>0.0</td>\n",
       "      <td>0.0</td>\n",
       "      <td>0.0</td>\n",
       "      <td>0.0</td>\n",
       "      <td>0.0</td>\n",
       "      <td>0.0</td>\n",
       "      <td>0.0</td>\n",
       "      <td>0.0</td>\n",
       "      <td>0.0</td>\n",
       "      <td>0.0</td>\n",
       "    </tr>\n",
       "    <tr>\n",
       "      <th>1</th>\n",
       "      <td>0.0</td>\n",
       "      <td>0.0</td>\n",
       "      <td>0.0</td>\n",
       "      <td>0.0</td>\n",
       "      <td>0.0</td>\n",
       "      <td>0.0</td>\n",
       "      <td>0.0</td>\n",
       "      <td>0.0</td>\n",
       "      <td>0.0</td>\n",
       "      <td>0.0</td>\n",
       "      <td>...</td>\n",
       "      <td>0.0</td>\n",
       "      <td>0.0</td>\n",
       "      <td>0.0</td>\n",
       "      <td>0.0</td>\n",
       "      <td>0.0</td>\n",
       "      <td>0.0</td>\n",
       "      <td>0.0</td>\n",
       "      <td>0.0</td>\n",
       "      <td>0.0</td>\n",
       "      <td>0.0</td>\n",
       "    </tr>\n",
       "    <tr>\n",
       "      <th>2</th>\n",
       "      <td>0.0</td>\n",
       "      <td>0.0</td>\n",
       "      <td>0.0</td>\n",
       "      <td>0.0</td>\n",
       "      <td>0.0</td>\n",
       "      <td>0.0</td>\n",
       "      <td>0.0</td>\n",
       "      <td>0.0</td>\n",
       "      <td>0.0</td>\n",
       "      <td>0.0</td>\n",
       "      <td>...</td>\n",
       "      <td>0.0</td>\n",
       "      <td>0.0</td>\n",
       "      <td>0.0</td>\n",
       "      <td>0.0</td>\n",
       "      <td>0.0</td>\n",
       "      <td>0.0</td>\n",
       "      <td>0.0</td>\n",
       "      <td>0.0</td>\n",
       "      <td>0.0</td>\n",
       "      <td>0.0</td>\n",
       "    </tr>\n",
       "    <tr>\n",
       "      <th>3</th>\n",
       "      <td>0.0</td>\n",
       "      <td>0.0</td>\n",
       "      <td>0.0</td>\n",
       "      <td>0.0</td>\n",
       "      <td>0.0</td>\n",
       "      <td>0.0</td>\n",
       "      <td>0.0</td>\n",
       "      <td>0.0</td>\n",
       "      <td>0.0</td>\n",
       "      <td>0.0</td>\n",
       "      <td>...</td>\n",
       "      <td>0.0</td>\n",
       "      <td>0.0</td>\n",
       "      <td>0.0</td>\n",
       "      <td>0.0</td>\n",
       "      <td>0.0</td>\n",
       "      <td>0.0</td>\n",
       "      <td>0.0</td>\n",
       "      <td>0.0</td>\n",
       "      <td>0.0</td>\n",
       "      <td>0.0</td>\n",
       "    </tr>\n",
       "    <tr>\n",
       "      <th>4</th>\n",
       "      <td>0.0</td>\n",
       "      <td>0.0</td>\n",
       "      <td>0.0</td>\n",
       "      <td>0.0</td>\n",
       "      <td>0.0</td>\n",
       "      <td>0.0</td>\n",
       "      <td>0.0</td>\n",
       "      <td>0.0</td>\n",
       "      <td>0.0</td>\n",
       "      <td>0.0</td>\n",
       "      <td>...</td>\n",
       "      <td>0.0</td>\n",
       "      <td>0.0</td>\n",
       "      <td>0.0</td>\n",
       "      <td>0.0</td>\n",
       "      <td>0.0</td>\n",
       "      <td>0.0</td>\n",
       "      <td>0.0</td>\n",
       "      <td>0.0</td>\n",
       "      <td>0.0</td>\n",
       "      <td>0.0</td>\n",
       "    </tr>\n",
       "    <tr>\n",
       "      <th>...</th>\n",
       "      <td>...</td>\n",
       "      <td>...</td>\n",
       "      <td>...</td>\n",
       "      <td>...</td>\n",
       "      <td>...</td>\n",
       "      <td>...</td>\n",
       "      <td>...</td>\n",
       "      <td>...</td>\n",
       "      <td>...</td>\n",
       "      <td>...</td>\n",
       "      <td>...</td>\n",
       "      <td>...</td>\n",
       "      <td>...</td>\n",
       "      <td>...</td>\n",
       "      <td>...</td>\n",
       "      <td>...</td>\n",
       "      <td>...</td>\n",
       "      <td>...</td>\n",
       "      <td>...</td>\n",
       "      <td>...</td>\n",
       "      <td>...</td>\n",
       "    </tr>\n",
       "    <tr>\n",
       "      <th>4743</th>\n",
       "      <td>0.0</td>\n",
       "      <td>0.0</td>\n",
       "      <td>0.0</td>\n",
       "      <td>0.0</td>\n",
       "      <td>0.0</td>\n",
       "      <td>0.0</td>\n",
       "      <td>0.0</td>\n",
       "      <td>0.0</td>\n",
       "      <td>0.0</td>\n",
       "      <td>0.0</td>\n",
       "      <td>...</td>\n",
       "      <td>0.0</td>\n",
       "      <td>0.0</td>\n",
       "      <td>0.0</td>\n",
       "      <td>0.0</td>\n",
       "      <td>0.0</td>\n",
       "      <td>0.0</td>\n",
       "      <td>0.0</td>\n",
       "      <td>0.0</td>\n",
       "      <td>0.0</td>\n",
       "      <td>0.0</td>\n",
       "    </tr>\n",
       "    <tr>\n",
       "      <th>4744</th>\n",
       "      <td>0.0</td>\n",
       "      <td>0.0</td>\n",
       "      <td>0.0</td>\n",
       "      <td>0.0</td>\n",
       "      <td>0.0</td>\n",
       "      <td>0.0</td>\n",
       "      <td>0.0</td>\n",
       "      <td>0.0</td>\n",
       "      <td>0.0</td>\n",
       "      <td>0.0</td>\n",
       "      <td>...</td>\n",
       "      <td>0.0</td>\n",
       "      <td>0.0</td>\n",
       "      <td>0.0</td>\n",
       "      <td>0.0</td>\n",
       "      <td>0.0</td>\n",
       "      <td>0.0</td>\n",
       "      <td>0.0</td>\n",
       "      <td>0.0</td>\n",
       "      <td>0.0</td>\n",
       "      <td>0.0</td>\n",
       "    </tr>\n",
       "    <tr>\n",
       "      <th>4745</th>\n",
       "      <td>0.0</td>\n",
       "      <td>0.0</td>\n",
       "      <td>0.0</td>\n",
       "      <td>0.0</td>\n",
       "      <td>0.0</td>\n",
       "      <td>0.0</td>\n",
       "      <td>0.0</td>\n",
       "      <td>0.0</td>\n",
       "      <td>0.0</td>\n",
       "      <td>0.0</td>\n",
       "      <td>...</td>\n",
       "      <td>0.0</td>\n",
       "      <td>0.0</td>\n",
       "      <td>0.0</td>\n",
       "      <td>0.0</td>\n",
       "      <td>0.0</td>\n",
       "      <td>0.0</td>\n",
       "      <td>0.0</td>\n",
       "      <td>0.0</td>\n",
       "      <td>0.0</td>\n",
       "      <td>0.0</td>\n",
       "    </tr>\n",
       "    <tr>\n",
       "      <th>4746</th>\n",
       "      <td>0.0</td>\n",
       "      <td>0.0</td>\n",
       "      <td>0.0</td>\n",
       "      <td>0.0</td>\n",
       "      <td>0.0</td>\n",
       "      <td>0.0</td>\n",
       "      <td>0.0</td>\n",
       "      <td>0.0</td>\n",
       "      <td>0.0</td>\n",
       "      <td>0.0</td>\n",
       "      <td>...</td>\n",
       "      <td>0.0</td>\n",
       "      <td>0.0</td>\n",
       "      <td>0.0</td>\n",
       "      <td>0.0</td>\n",
       "      <td>0.0</td>\n",
       "      <td>0.0</td>\n",
       "      <td>0.0</td>\n",
       "      <td>0.0</td>\n",
       "      <td>0.0</td>\n",
       "      <td>0.0</td>\n",
       "    </tr>\n",
       "    <tr>\n",
       "      <th>4747</th>\n",
       "      <td>0.0</td>\n",
       "      <td>0.0</td>\n",
       "      <td>0.0</td>\n",
       "      <td>0.0</td>\n",
       "      <td>0.0</td>\n",
       "      <td>0.0</td>\n",
       "      <td>0.0</td>\n",
       "      <td>0.0</td>\n",
       "      <td>0.0</td>\n",
       "      <td>0.0</td>\n",
       "      <td>...</td>\n",
       "      <td>0.0</td>\n",
       "      <td>0.0</td>\n",
       "      <td>0.0</td>\n",
       "      <td>0.0</td>\n",
       "      <td>0.0</td>\n",
       "      <td>0.0</td>\n",
       "      <td>0.0</td>\n",
       "      <td>0.0</td>\n",
       "      <td>0.0</td>\n",
       "      <td>0.0</td>\n",
       "    </tr>\n",
       "  </tbody>\n",
       "</table>\n",
       "<p>4748 rows × 5000 columns</p>\n",
       "</div>"
      ],
      "text/plain": [
       "      aaron  abandon  abandoned  abbey  abducted  ability  able  aboard  \\\n",
       "0       0.0      0.0        0.0    0.0       0.0      0.0   0.0     0.0   \n",
       "1       0.0      0.0        0.0    0.0       0.0      0.0   0.0     0.0   \n",
       "2       0.0      0.0        0.0    0.0       0.0      0.0   0.0     0.0   \n",
       "3       0.0      0.0        0.0    0.0       0.0      0.0   0.0     0.0   \n",
       "4       0.0      0.0        0.0    0.0       0.0      0.0   0.0     0.0   \n",
       "...     ...      ...        ...    ...       ...      ...   ...     ...   \n",
       "4743    0.0      0.0        0.0    0.0       0.0      0.0   0.0     0.0   \n",
       "4744    0.0      0.0        0.0    0.0       0.0      0.0   0.0     0.0   \n",
       "4745    0.0      0.0        0.0    0.0       0.0      0.0   0.0     0.0   \n",
       "4746    0.0      0.0        0.0    0.0       0.0      0.0   0.0     0.0   \n",
       "4747    0.0      0.0        0.0    0.0       0.0      0.0   0.0     0.0   \n",
       "\n",
       "      abraham  abroad  ...  young woman  younger  youngest  youth  youthful  \\\n",
       "0         0.0     0.0  ...          0.0      0.0       0.0    0.0       0.0   \n",
       "1         0.0     0.0  ...          0.0      0.0       0.0    0.0       0.0   \n",
       "2         0.0     0.0  ...          0.0      0.0       0.0    0.0       0.0   \n",
       "3         0.0     0.0  ...          0.0      0.0       0.0    0.0       0.0   \n",
       "4         0.0     0.0  ...          0.0      0.0       0.0    0.0       0.0   \n",
       "...       ...     ...  ...          ...      ...       ...    ...       ...   \n",
       "4743      0.0     0.0  ...          0.0      0.0       0.0    0.0       0.0   \n",
       "4744      0.0     0.0  ...          0.0      0.0       0.0    0.0       0.0   \n",
       "4745      0.0     0.0  ...          0.0      0.0       0.0    0.0       0.0   \n",
       "4746      0.0     0.0  ...          0.0      0.0       0.0    0.0       0.0   \n",
       "4747      0.0     0.0  ...          0.0      0.0       0.0    0.0       0.0   \n",
       "\n",
       "      zen  zero  zombie  zone   zu  \n",
       "0     0.0   0.0     0.0   0.0  0.0  \n",
       "1     0.0   0.0     0.0   0.0  0.0  \n",
       "2     0.0   0.0     0.0   0.0  0.0  \n",
       "3     0.0   0.0     0.0   0.0  0.0  \n",
       "4     0.0   0.0     0.0   0.0  0.0  \n",
       "...   ...   ...     ...   ...  ...  \n",
       "4743  0.0   0.0     0.0   0.0  0.0  \n",
       "4744  0.0   0.0     0.0   0.0  0.0  \n",
       "4745  0.0   0.0     0.0   0.0  0.0  \n",
       "4746  0.0   0.0     0.0   0.0  0.0  \n",
       "4747  0.0   0.0     0.0   0.0  0.0  \n",
       "\n",
       "[4748 rows x 5000 columns]"
      ]
     },
     "execution_count": 15,
     "metadata": {},
     "output_type": "execute_result"
    }
   ],
   "source": [
    "data "
   ]
  },
  {
   "cell_type": "markdown",
   "metadata": {
    "id": "ORl3Ot4dTsLW"
   },
   "source": [
    "### we are using TF-ID because it is better than bag of words "
   ]
  },
  {
   "cell_type": "markdown",
   "metadata": {},
   "source": [
    "# Content based recommendation system "
   ]
  },
  {
   "cell_type": "code",
   "execution_count": 16,
   "metadata": {
    "ExecuteTime": {
     "end_time": "2021-12-22T04:59:18.023973Z",
     "start_time": "2021-12-22T04:59:18.003630Z"
    }
   },
   "outputs": [],
   "source": [
    "from sklearn.metrics.pairwise import cosine_similarity"
   ]
  },
  {
   "cell_type": "code",
   "execution_count": 17,
   "metadata": {
    "ExecuteTime": {
     "end_time": "2021-12-22T04:59:23.079693Z",
     "start_time": "2021-12-22T04:59:22.260413Z"
    }
   },
   "outputs": [],
   "source": [
    "sg = cosine_similarity(doc_vec, doc_vec)"
   ]
  },
  {
   "cell_type": "code",
   "execution_count": 18,
   "metadata": {
    "ExecuteTime": {
     "end_time": "2021-12-22T04:59:27.382503Z",
     "start_time": "2021-12-22T04:59:27.320329Z"
    }
   },
   "outputs": [],
   "source": [
    "indices = pd.Series(book.index, index= book['title']).drop_duplicates()"
   ]
  },
  {
   "cell_type": "code",
   "execution_count": 19,
   "metadata": {
    "ExecuteTime": {
     "end_time": "2021-12-22T04:59:31.702825Z",
     "start_time": "2021-12-22T04:59:31.688675Z"
    }
   },
   "outputs": [
    {
     "data": {
      "text/plain": [
       "title\n",
       "the glass castle                           0\n",
       "angelas ashes                              1\n",
       "tuesdays with morrie                       2\n",
       "running with scissors                      3\n",
       "a child called it                          4\n",
       "                                        ... \n",
       "confessions of a tween superheroine     4745\n",
       "the feds folly who stole 17 trillion    4746\n",
       "unwind                                  4747\n",
       "pretty little liars                     4748\n",
       "the knife of never letting go           4749\n",
       "Length: 4748, dtype: int64"
      ]
     },
     "execution_count": 19,
     "metadata": {},
     "output_type": "execute_result"
    }
   ],
   "source": [
    "indices"
   ]
  },
  {
   "cell_type": "code",
   "execution_count": 20,
   "metadata": {
    "ExecuteTime": {
     "end_time": "2021-12-22T04:59:35.998333Z",
     "start_time": "2021-12-22T04:59:35.976122Z"
    }
   },
   "outputs": [],
   "source": [
    "def recommend(title, sig=sg):\n",
    "    idx = indices[title]\n",
    "    sg_score = list(enumerate(sg[idx]))\n",
    "    sg_score = sorted(sg_score, key= lambda x: x[1], reverse=True)\n",
    "    sg_score = sg_score[1:11]\n",
    "    book_indices = [i[0] for i in sg_score]\n",
    "    return book['title'].iloc[book_indices]"
   ]
  },
  {
   "cell_type": "code",
   "execution_count": 21,
   "metadata": {
    "ExecuteTime": {
     "end_time": "2021-12-22T04:59:40.278263Z",
     "start_time": "2021-12-22T04:59:40.192022Z"
    }
   },
   "outputs": [
    {
     "data": {
      "text/plain": [
       "4681              the host\n",
       "3491          gentle rogue\n",
       "4697                marked\n",
       "4736          this lullaby\n",
       "4742                  gone\n",
       "4735              delirium\n",
       "1523         sharp objects\n",
       "3277            thornyhold\n",
       "1741    the crocodile bird\n",
       "1711     the tommyknockers\n",
       "Name: title, dtype: object"
      ]
     },
     "execution_count": 21,
     "metadata": {},
     "output_type": "execute_result"
    }
   ],
   "source": [
    "recommend('a child called it')"
   ]
  },
  {
   "cell_type": "code",
   "execution_count": 22,
   "metadata": {
    "ExecuteTime": {
     "end_time": "2021-12-22T04:59:45.326993Z",
     "start_time": "2021-12-22T04:59:44.572477Z"
    }
   },
   "outputs": [
    {
     "data": {
      "text/plain": [
       "<BarContainer object of 10 artists>"
      ]
     },
     "execution_count": 22,
     "metadata": {},
     "output_type": "execute_result"
    },
    {
     "data": {
      "image/png": "[encoded data removed]",
      "text/plain": [
       "<Figure size 1440x360 with 1 Axes>"
      ]
     },
     "metadata": {
      "needs_background": "light"
     },
     "output_type": "display_data"
    }
   ],
   "source": [
    "idx = indices['a child called it']\n",
    "sg_score = list(enumerate(sg[idx]))\n",
    "sg_score = sorted(sg_score, key= lambda x: x[1], reverse=True)\n",
    "sg_score = sg_score[1:11]\n",
    "height = [i[1] for i in sg_score]\n",
    "plt.figure(figsize=(20,5))\n",
    "plt.bar(recommend('a child called it'),height,width = 0.7,\n",
    "        color = ['red', 'green','blue','orange','yellow','brown','pink','violet','black','skyblue'])"
   ]
  },
  {
   "cell_type": "code",
   "execution_count": 23,
   "metadata": {
    "ExecuteTime": {
     "end_time": "2021-12-22T04:59:49.566991Z",
     "start_time": "2021-12-22T04:59:49.552038Z"
    }
   },
   "outputs": [
    {
     "data": {
      "text/plain": [
       "3692                                      deathworld 1\n",
       "33                             the tender bar a memoir\n",
       "2246                                      bloodthirsty\n",
       "1792    blood and thunder an epic of the american west\n",
       "4229                                        excavation\n",
       "3791                                  chariots of fire\n",
       "1888              blood done sign my name a true story\n",
       "2942                                   the zombie room\n",
       "3557                                planet of the apes\n",
       "1711                                 the tommyknockers\n",
       "Name: title, dtype: object"
      ]
     },
     "execution_count": 23,
     "metadata": {},
     "output_type": "execute_result"
    }
   ],
   "source": [
    "recommend('unwind')"
   ]
  },
  {
   "cell_type": "code",
   "execution_count": 24,
   "metadata": {
    "ExecuteTime": {
     "end_time": "2021-12-22T04:59:54.131971Z",
     "start_time": "2021-12-22T04:59:53.921941Z"
    }
   },
   "outputs": [
    {
     "data": {
      "text/plain": [
       "<BarContainer object of 10 artists>"
      ]
     },
     "execution_count": 24,
     "metadata": {},
     "output_type": "execute_result"
    },
    {
     "data": {
      "image/png": "[encoded data removed]",
      "text/plain": [
       "<Figure size 2160x504 with 1 Axes>"
      ]
     },
     "metadata": {
      "needs_background": "light"
     },
     "output_type": "display_data"
    }
   ],
   "source": [
    "idx = indices['unwind']\n",
    "sg_score = list(enumerate(sg[idx]))\n",
    "sg_score = sorted(sg_score, key= lambda x: x[1], reverse=True)\n",
    "sg_score = sg_score[1:11]\n",
    "height = [i[1] for i in sg_score]\n",
    "plt.figure(figsize=(30,7))\n",
    "plt.bar(recommend('unwind'),height,width = 0.5,\n",
    "        color = ['red', 'green','blue','orange','yellow','brown','pink','violet','black','skyblue'])"
   ]
  },
  {
   "cell_type": "markdown",
   "metadata": {},
   "source": [
    "### we have recommended top 10 books based on book description "
   ]
  },
  {
   "cell_type": "markdown",
   "metadata": {},
   "source": [
    "### Saving as Pickle file"
   ]
  },
  {
   "cell_type": "code",
   "execution_count": 25,
   "metadata": {
    "ExecuteTime": {
     "end_time": "2021-12-22T04:59:58.501641Z",
     "start_time": "2021-12-22T04:59:58.487327Z"
    }
   },
   "outputs": [],
   "source": [
    "import pickle "
   ]
  },
  {
   "cell_type": "code",
   "execution_count": 26,
   "metadata": {
    "ExecuteTime": {
     "end_time": "2021-12-22T05:00:05.121637Z",
     "start_time": "2021-12-22T05:00:02.789078Z"
    }
   },
   "outputs": [],
   "source": [
    "pickle.dump(book,open('book_dataset.pkl','wb'))\n",
    "pickle.dump(tfid_vec,open('vectorization.pkl','wb'))\n",
    "pickle.dump(sg,open('cosinesimilarity.pkl','wb'))"
   ]
  },
  {
   "cell_type": "code",
   "execution_count": null,
   "metadata": {},
   "outputs": [],
   "source": []
  }
 ],
 "metadata": {
  "colab": {
   "collapsed_sections": [],
   "name": "abusive email feature.ipynb",
   "provenance": []
  },
  "kernelspec": {
   "display_name": "Python 3",
   "language": "python",
   "name": "python3"
  },
  "language_info": {
   "codemirror_mode": {
    "name": "ipython",
    "version": 3
   },
   "file_extension": ".py",
   "mimetype": "text/x-python",
   "name": "python",
   "nbconvert_exporter": "python",
   "pygments_lexer": "ipython3",
   "version": "3.8.8"
  },
  "toc": {
   "base_numbering": 1,
   "nav_menu": {},
   "number_sections": true,
   "sideBar": true,
   "skip_h1_title": false,
   "title_cell": "Table of Contents",
   "title_sidebar": "Contents",
   "toc_cell": false,
   "toc_position": {},
   "toc_section_display": true,
   "toc_window_display": false
  },
  "varInspector": {
   "cols": {
    "lenName": 16,
    "lenType": 16,
    "lenVar": 40
   },
   "kernels_config": {
    "python": {
     "delete_cmd_postfix": "",
     "delete_cmd_prefix": "del ",
     "library": "var_list.py",
     "varRefreshCmd": "print(var_dic_list())"
    },
    "r": {
     "delete_cmd_postfix": ") ",
     "delete_cmd_prefix": "rm(",
     "library": "var_list.r",
     "varRefreshCmd": "cat(var_dic_list()) "
    }
   },
   "types_to_exclude": [
    "module",
    "function",
    "builtin_function_or_method",
    "instance",
    "_Feature"
   ],
   "window_display": false
  }
 },
 "nbformat": 4,
 "nbformat_minor": 1
}
